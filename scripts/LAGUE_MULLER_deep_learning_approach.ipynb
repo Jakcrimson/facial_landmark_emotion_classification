{
 "cells": [
  {
   "cell_type": "markdown",
   "metadata": {},
   "source": [
    "# Approche Deep Learning"
   ]
  },
  {
   "cell_type": "markdown",
   "metadata": {},
   "source": [
    "Nous proposons une approche élégante en utilisant les réseaux de neurones convolutionnels directements appliqués aux images issues des plot des landmarks.\n",
    "Cette approche élégante sera conduite de manière la plus optimisée possible.\n",
    "\n",
    "Il y a aura  deux types d'images :\n",
    "- les plot avec des points noirs\n",
    "- les plot avec les points colorés délimitant les différentes zones du visage (annotation manuelle des images)\n",
    "\n",
    "Ce notebook comprendra une approche directe (pas d'augmentation, pas/peu d'optimisation d'hyperparametres) et un approche avancée (data augmentation, architecture optimisée) et si le temps le permet du fine tuning ou transfert learning vers d'autres backbones plus avancés."
   ]
  },
  {
   "cell_type": "markdown",
   "metadata": {},
   "source": [
    "## Librairies"
   ]
  },
  {
   "cell_type": "code",
   "execution_count": 1,
   "metadata": {},
   "outputs": [],
   "source": [
    "from keras.models import Sequential\n",
    "from keras.layers import Conv2D, MaxPool2D, Flatten, Dense, Dropout, BatchNormalization\n",
    "from keras.preprocessing.image import ImageDataGenerator\n",
    "from keras.optimizers import Adam"
   ]
  },
  {
   "cell_type": "markdown",
   "metadata": {},
   "source": [
    "# DATA IS IN BLACK AND WHITE\n",
    "### Data generation and preprocessing\n",
    "## NO DATA AUGMENTATION"
   ]
  },
  {
   "cell_type": "code",
   "execution_count": 3,
   "metadata": {},
   "outputs": [
    {
     "name": "stderr",
     "output_type": "stream",
     "text": [
      "100%|██████████| 353/353 [01:01<00:00,  5.73it/s]\n"
     ]
    },
    {
     "data": {
      "text/plain": [
       "<Figure size 640x480 with 0 Axes>"
      ]
     },
     "metadata": {},
     "output_type": "display_data"
    }
   ],
   "source": [
    "#### SUPER IMPORTANT TO EXECUTE OTHERWISE FACES MIGHT BE RGB\n",
    "import save_face_img\n",
    "\n",
    "save_face_img.create_faces(color_mode=\"bw\")"
   ]
  },
  {
   "cell_type": "code",
   "execution_count": 4,
   "metadata": {},
   "outputs": [
    {
     "name": "stdout",
     "output_type": "stream",
     "text": [
      "Found 295 images belonging to 6 classes.\n",
      "Found 20 images belonging to 6 classes.\n"
     ]
    }
   ],
   "source": [
    "# Data Preparation NO AUGMENTATION\n",
    "train_datagen =         ImageDataGenerator(rescale=1./255)\n",
    "test_datagen =          ImageDataGenerator(rescale=1./255)\n",
    "\n",
    "train_generator =       train_datagen.flow_from_directory(\n",
    "                        r'../CK+_lands/images/train/',\n",
    "                        target_size=(150, 150),\n",
    "                        batch_size=32,\n",
    "                        class_mode='categorical')\n",
    "\n",
    "validation_generator =  test_datagen.flow_from_directory(\n",
    "                        r'../CK+_lands/images/val/',\n",
    "                        target_size=(150, 150),\n",
    "                        batch_size=32,\n",
    "                        class_mode='categorical')"
   ]
  },
  {
   "cell_type": "markdown",
   "metadata": {},
   "source": [
    "### Building / Compiling / Fitting model"
   ]
  },
  {
   "cell_type": "code",
   "execution_count": 5,
   "metadata": {},
   "outputs": [
    {
     "name": "stdout",
     "output_type": "stream",
     "text": [
      "Model: \"sequential\"\n",
      "_________________________________________________________________\n",
      " Layer (type)                Output Shape              Param #   \n",
      "=================================================================\n",
      " conv2d (Conv2D)             (None, 148, 148, 32)      896       \n",
      "                                                                 \n",
      " max_pooling2d (MaxPooling2  (None, 74, 74, 32)        0         \n",
      " D)                                                              \n",
      "                                                                 \n",
      " conv2d_1 (Conv2D)           (None, 72, 72, 64)        18496     \n",
      "                                                                 \n",
      " max_pooling2d_1 (MaxPoolin  (None, 36, 36, 64)        0         \n",
      " g2D)                                                            \n",
      "                                                                 \n",
      " conv2d_2 (Conv2D)           (None, 34, 34, 128)       73856     \n",
      "                                                                 \n",
      " max_pooling2d_2 (MaxPoolin  (None, 17, 17, 128)       0         \n",
      " g2D)                                                            \n",
      "                                                                 \n",
      " conv2d_3 (Conv2D)           (None, 15, 15, 256)       295168    \n",
      "                                                                 \n",
      " max_pooling2d_3 (MaxPoolin  (None, 7, 7, 256)         0         \n",
      " g2D)                                                            \n",
      "                                                                 \n",
      " flatten (Flatten)           (None, 12544)             0         \n",
      "                                                                 \n",
      " dense (Dense)               (None, 256)               3211520   \n",
      "                                                                 \n",
      " dropout (Dropout)           (None, 256)               0         \n",
      "                                                                 \n",
      " dense_1 (Dense)             (None, 6)                 1542      \n",
      "                                                                 \n",
      "=================================================================\n",
      "Total params: 3601478 (13.74 MB)\n",
      "Trainable params: 3601478 (13.74 MB)\n",
      "Non-trainable params: 0 (0.00 Byte)\n",
      "_________________________________________________________________\n"
     ]
    }
   ],
   "source": [
    "# Model Building\n",
    "model =     Sequential()\n",
    "model.add(Conv2D(32, kernel_size=(3, 3), activation='relu', input_shape=(150, 150, 3)))\n",
    "model.add(MaxPool2D(pool_size=2, strides=2, padding=\"valid\"))\n",
    "model.add(Conv2D(64, kernel_size=(3, 3), activation='relu'))\n",
    "model.add(MaxPool2D(pool_size=2, strides=2, padding=\"valid\"))\n",
    "model.add(Conv2D(128, kernel_size=(3, 3), activation='relu'))\n",
    "model.add(MaxPool2D(pool_size=2, strides=2, padding=\"valid\"))\n",
    "model.add(Conv2D(256, kernel_size=(3, 3), activation='relu'))\n",
    "model.add(MaxPool2D(pool_size=2, strides=2, padding=\"valid\"))\n",
    "model.add(Flatten())\n",
    "model.add(Dense(256, activation='relu'))\n",
    "model.add(Dropout(0.5))\n",
    "model.add(Dense(6, activation='softmax'))\n",
    "\n",
    "# Compilation\n",
    "model.compile(optimizer='adam', loss='categorical_crossentropy', metrics=['accuracy'])\n",
    "\n",
    "model.summary()"
   ]
  },
  {
   "cell_type": "code",
   "execution_count": 6,
   "metadata": {},
   "outputs": [],
   "source": [
    "from keras.callbacks import EarlyStopping\n",
    "\n",
    "pat = 5 #this is the number of epochs with no improvment after which the training will stop\n",
    "early_stopping = EarlyStopping(monitor='val_loss', patience=pat, verbose=1)"
   ]
  },
  {
   "cell_type": "code",
   "execution_count": 7,
   "metadata": {},
   "outputs": [
    {
     "data": {
      "image/png": "[encoded data removed]",
      "text/plain": [
       "<PIL.Image.Image image mode=RGBA size=801x234>"
      ]
     },
     "execution_count": 7,
     "metadata": {},
     "output_type": "execute_result"
    }
   ],
   "source": [
    "import visualkeras\n",
    "visualkeras.layered_view(model, legend=True, scale_xy=1)"
   ]
  },
  {
   "cell_type": "markdown",
   "metadata": {},
   "source": [
    "### Fitting model"
   ]
  },
  {
   "cell_type": "code",
   "execution_count": 8,
   "metadata": {},
   "outputs": [
    {
     "name": "stdout",
     "output_type": "stream",
     "text": [
      "Epoch 1/100\n",
      "10/10 [==============================] - 9s 672ms/step - loss: 1.8025 - accuracy: 0.2271 - val_loss: 1.7479 - val_accuracy: 0.2500\n",
      "Epoch 2/100\n",
      "10/10 [==============================] - 6s 597ms/step - loss: 1.7816 - accuracy: 0.2475 - val_loss: 1.7330 - val_accuracy: 0.2500\n",
      "Epoch 3/100\n",
      "10/10 [==============================] - 6s 568ms/step - loss: 1.7670 - accuracy: 0.2271 - val_loss: 1.7625 - val_accuracy: 0.2500\n",
      "Epoch 4/100\n",
      "10/10 [==============================] - 6s 597ms/step - loss: 1.7604 - accuracy: 0.2712 - val_loss: 1.7187 - val_accuracy: 0.2500\n",
      "Epoch 5/100\n",
      "10/10 [==============================] - 6s 586ms/step - loss: 1.7425 - accuracy: 0.2780 - val_loss: 1.7150 - val_accuracy: 0.2500\n",
      "Epoch 6/100\n",
      "10/10 [==============================] - 7s 712ms/step - loss: 1.7448 - accuracy: 0.2576 - val_loss: 1.7159 - val_accuracy: 0.2500\n",
      "Epoch 7/100\n",
      "10/10 [==============================] - 7s 642ms/step - loss: 1.6917 - accuracy: 0.2814 - val_loss: 1.5650 - val_accuracy: 0.4500\n",
      "Epoch 8/100\n",
      "10/10 [==============================] - 6s 588ms/step - loss: 1.4521 - accuracy: 0.4475 - val_loss: 1.0469 - val_accuracy: 0.5000\n",
      "Epoch 9/100\n",
      "10/10 [==============================] - 6s 564ms/step - loss: 1.1822 - accuracy: 0.5864 - val_loss: 0.8088 - val_accuracy: 0.6000\n",
      "Epoch 10/100\n",
      "10/10 [==============================] - 5s 530ms/step - loss: 0.8982 - accuracy: 0.6780 - val_loss: 0.6925 - val_accuracy: 0.7500\n",
      "Epoch 11/100\n",
      "10/10 [==============================] - 6s 536ms/step - loss: 0.6923 - accuracy: 0.7390 - val_loss: 0.6724 - val_accuracy: 0.7000\n",
      "Epoch 12/100\n",
      "10/10 [==============================] - 5s 531ms/step - loss: 0.6023 - accuracy: 0.7593 - val_loss: 0.5671 - val_accuracy: 0.8000\n",
      "Epoch 13/100\n",
      "10/10 [==============================] - 5s 520ms/step - loss: 0.5501 - accuracy: 0.8034 - val_loss: 0.6624 - val_accuracy: 0.7000\n",
      "Epoch 14/100\n",
      "10/10 [==============================] - 5s 532ms/step - loss: 0.4421 - accuracy: 0.8237 - val_loss: 0.6545 - val_accuracy: 0.7500\n",
      "Epoch 15/100\n",
      "10/10 [==============================] - 5s 529ms/step - loss: 0.4095 - accuracy: 0.8237 - val_loss: 0.8004 - val_accuracy: 0.8000\n",
      "Epoch 16/100\n",
      "10/10 [==============================] - 5s 528ms/step - loss: 0.3685 - accuracy: 0.8644 - val_loss: 0.6484 - val_accuracy: 0.7000\n",
      "Epoch 17/100\n",
      "10/10 [==============================] - 5s 528ms/step - loss: 0.3492 - accuracy: 0.8814 - val_loss: 0.4994 - val_accuracy: 0.7000\n",
      "Epoch 18/100\n",
      "10/10 [==============================] - 5s 526ms/step - loss: 0.2794 - accuracy: 0.8983 - val_loss: 0.7619 - val_accuracy: 0.7500\n",
      "Epoch 19/100\n",
      "10/10 [==============================] - 5s 528ms/step - loss: 0.2687 - accuracy: 0.8915 - val_loss: 0.5069 - val_accuracy: 0.7500\n",
      "Epoch 20/100\n",
      "10/10 [==============================] - 5s 523ms/step - loss: 0.2251 - accuracy: 0.9051 - val_loss: 0.7036 - val_accuracy: 0.8000\n",
      "Epoch 21/100\n",
      "10/10 [==============================] - 5s 525ms/step - loss: 0.2029 - accuracy: 0.9220 - val_loss: 0.5797 - val_accuracy: 0.7500\n",
      "Epoch 22/100\n",
      "10/10 [==============================] - 6s 537ms/step - loss: 0.1636 - accuracy: 0.9356 - val_loss: 0.8645 - val_accuracy: 0.7500\n",
      "Epoch 22: early stopping\n"
     ]
    }
   ],
   "source": [
    "history = model.fit(train_generator, epochs=100, validation_data=validation_generator, callbacks=early_stopping) "
   ]
  },
  {
   "cell_type": "code",
   "execution_count": 9,
   "metadata": {},
   "outputs": [],
   "source": [
    "# model.save('emotion_classifier_model.h5')  "
   ]
  },
  {
   "cell_type": "code",
   "execution_count": 10,
   "metadata": {},
   "outputs": [
    {
     "data": {
      "text/plain": [
       "<matplotlib.legend.Legend at 0x2747f9546d0>"
      ]
     },
     "execution_count": 10,
     "metadata": {},
     "output_type": "execute_result"
    },
    {
     "data": {
      "image/png": "[encoded data removed]",
      "text/plain": [
       "<Figure size 640x480 with 2 Axes>"
      ]
     },
     "metadata": {},
     "output_type": "display_data"
    }
   ],
   "source": [
    "import matplotlib.pyplot as plt\n",
    "\n",
    "plt.subplot(1, 2, 1)\n",
    "plt.plot(history.history['accuracy'], label='accuracy')\n",
    "plt.xlabel('epochs')\n",
    "plt.ylabel('unit')\n",
    "plt.legend()\n",
    "plt.plot(history.history['loss'], label='loss')\n",
    "plt.legend()\n",
    "\n",
    "\n",
    "plt.subplot(1, 2, 2)\n",
    "plt.plot(history.history['val_accuracy'], label='val_accuracy')\n",
    "plt.xlabel('epochs')\n",
    "plt.ylabel('unit')\n",
    "plt.legend()\n",
    "plt.plot(history.history['val_loss'], label='val_loss')\n",
    "plt.legend()\n",
    "\n"
   ]
  },
  {
   "cell_type": "code",
   "execution_count": 11,
   "metadata": {},
   "outputs": [
    {
     "name": "stdout",
     "output_type": "stream",
     "text": [
      "Found 10 images belonging to 6 classes.\n",
      "10/10 [==============================] - 0s 15ms/step - loss: 0.7211 - accuracy: 0.9000\n",
      "Test Loss: 0.7211422920227051\n",
      "Test Accuracy: 0.8999999761581421\n"
     ]
    }
   ],
   "source": [
    "test_datagen =          ImageDataGenerator(rescale=1./255)\n",
    "\n",
    "test_generator =        test_datagen.flow_from_directory(\n",
    "                        r'../CK+_lands/images/test/',\n",
    "                        target_size=(150, 150),\n",
    "                        batch_size=1,\n",
    "                        class_mode='categorical')\n",
    "\n",
    "evaluation =            model.evaluate(test_generator)\n",
    "\n",
    "print(\"Test Loss:\", evaluation[0])\n",
    "print(\"Test Accuracy:\", evaluation[1])"
   ]
  },
  {
   "cell_type": "markdown",
   "metadata": {},
   "source": [
    "## WITH DATA AUGMENTATION"
   ]
  },
  {
   "cell_type": "code",
   "execution_count": 12,
   "metadata": {},
   "outputs": [
    {
     "name": "stdout",
     "output_type": "stream",
     "text": [
      "Found 295 images belonging to 6 classes.\n",
      "Found 20 images belonging to 6 classes.\n"
     ]
    }
   ],
   "source": [
    "# Data Preparation and augmentation\n",
    "train_datagen_augmented =         ImageDataGenerator(rescale=1./255,\n",
    "                                        shear_range=0.2,\n",
    "                                        zoom_range=0.2,\n",
    "                                        horizontal_flip=True,\n",
    "                                        rotation_range=15,\n",
    "                                        width_shift_range=0.1,\n",
    "                                        height_shift_range=0.1)\n",
    "\n",
    "test_datagen =          ImageDataGenerator(rescale=1./255)\n",
    "\n",
    "train_generator_augmented =       train_datagen_augmented.flow_from_directory(\n",
    "                        r'../CK+_lands/images/train/',\n",
    "                        target_size=(150, 150),\n",
    "                        batch_size=32,\n",
    "                        class_mode='categorical')\n",
    "\n",
    "validation_generator =  test_datagen.flow_from_directory(\n",
    "                        r'../CK+_lands/images/val/',\n",
    "                        target_size=(150, 150),\n",
    "                        batch_size=32,\n",
    "                        class_mode='categorical')"
   ]
  },
  {
   "cell_type": "code",
   "execution_count": 13,
   "metadata": {},
   "outputs": [
    {
     "name": "stdout",
     "output_type": "stream",
     "text": [
      "Model: \"sequential_1\"\n",
      "_________________________________________________________________\n",
      " Layer (type)                Output Shape              Param #   \n",
      "=================================================================\n",
      " conv2d_4 (Conv2D)           (None, 148, 148, 32)      896       \n",
      "                                                                 \n",
      " max_pooling2d_4 (MaxPoolin  (None, 74, 74, 32)        0         \n",
      " g2D)                                                            \n",
      "                                                                 \n",
      " conv2d_5 (Conv2D)           (None, 72, 72, 64)        18496     \n",
      "                                                                 \n",
      " max_pooling2d_5 (MaxPoolin  (None, 36, 36, 64)        0         \n",
      " g2D)                                                            \n",
      "                                                                 \n",
      " conv2d_6 (Conv2D)           (None, 34, 34, 128)       73856     \n",
      "                                                                 \n",
      " max_pooling2d_6 (MaxPoolin  (None, 17, 17, 128)       0         \n",
      " g2D)                                                            \n",
      "                                                                 \n",
      " conv2d_7 (Conv2D)           (None, 15, 15, 256)       295168    \n",
      "                                                                 \n",
      " max_pooling2d_7 (MaxPoolin  (None, 7, 7, 256)         0         \n",
      " g2D)                                                            \n",
      "                                                                 \n",
      " flatten_1 (Flatten)         (None, 12544)             0         \n",
      "                                                                 \n",
      " dense_2 (Dense)             (None, 256)               3211520   \n",
      "                                                                 \n",
      " dropout_1 (Dropout)         (None, 256)               0         \n",
      "                                                                 \n",
      " dense_3 (Dense)             (None, 6)                 1542      \n",
      "                                                                 \n",
      "=================================================================\n",
      "Total params: 3601478 (13.74 MB)\n",
      "Trainable params: 3601478 (13.74 MB)\n",
      "Non-trainable params: 0 (0.00 Byte)\n",
      "_________________________________________________________________\n"
     ]
    }
   ],
   "source": [
    "# Model Building\n",
    "model2 =     Sequential()\n",
    "model2.add(Conv2D(32, kernel_size=(3, 3), activation='relu', input_shape=(150, 150, 3)))\n",
    "model2.add(MaxPool2D(pool_size=2, strides=2, padding=\"valid\"))\n",
    "model2.add(Conv2D(64, kernel_size=(3, 3), activation='relu'))\n",
    "model2.add(MaxPool2D(pool_size=2, strides=2, padding=\"valid\"))\n",
    "model2.add(Conv2D(128, kernel_size=(3, 3), activation='relu'))\n",
    "model2.add(MaxPool2D(pool_size=2, strides=2, padding=\"valid\"))\n",
    "model2.add(Conv2D(256, kernel_size=(3, 3), activation='relu'))\n",
    "model2.add(MaxPool2D(pool_size=2, strides=2, padding=\"valid\"))\n",
    "model2.add(Flatten())\n",
    "model2.add(Dense(256, activation='relu'))\n",
    "model2.add(Dropout(0.5))\n",
    "model2.add(Dense(6, activation='softmax'))\n",
    "\n",
    "# Compilation\n",
    "model2.compile(optimizer='adam', loss='categorical_crossentropy', metrics=['accuracy'])\n",
    "\n",
    "model2.summary()"
   ]
  },
  {
   "cell_type": "code",
   "execution_count": 14,
   "metadata": {},
   "outputs": [
    {
     "name": "stdout",
     "output_type": "stream",
     "text": [
      "Epoch 1/100\n",
      "10/10 [==============================] - 10s 748ms/step - loss: 1.9969 - accuracy: 0.2305 - val_loss: 1.7293 - val_accuracy: 0.2500\n",
      "Epoch 2/100\n",
      "10/10 [==============================] - 7s 695ms/step - loss: 1.7654 - accuracy: 0.2102 - val_loss: 1.7572 - val_accuracy: 0.2500\n",
      "Epoch 3/100\n",
      "10/10 [==============================] - 7s 697ms/step - loss: 1.7659 - accuracy: 0.2542 - val_loss: 1.7326 - val_accuracy: 0.2500\n",
      "Epoch 4/100\n",
      "10/10 [==============================] - 7s 689ms/step - loss: 1.7544 - accuracy: 0.2610 - val_loss: 1.7324 - val_accuracy: 0.2500\n",
      "Epoch 5/100\n",
      "10/10 [==============================] - 7s 702ms/step - loss: 1.7490 - accuracy: 0.2542 - val_loss: 1.7275 - val_accuracy: 0.2500\n",
      "Epoch 6/100\n",
      "10/10 [==============================] - 7s 701ms/step - loss: 1.7432 - accuracy: 0.2475 - val_loss: 1.7267 - val_accuracy: 0.2500\n",
      "Epoch 7/100\n",
      "10/10 [==============================] - 7s 711ms/step - loss: 1.7467 - accuracy: 0.2407 - val_loss: 1.7333 - val_accuracy: 0.2500\n",
      "Epoch 8/100\n",
      "10/10 [==============================] - 7s 696ms/step - loss: 1.7411 - accuracy: 0.2712 - val_loss: 1.7222 - val_accuracy: 0.2500\n",
      "Epoch 9/100\n",
      "10/10 [==============================] - 7s 700ms/step - loss: 1.7403 - accuracy: 0.2373 - val_loss: 1.7413 - val_accuracy: 0.2500\n",
      "Epoch 10/100\n",
      "10/10 [==============================] - 7s 692ms/step - loss: 1.7541 - accuracy: 0.2644 - val_loss: 1.7342 - val_accuracy: 0.2500\n",
      "Epoch 11/100\n",
      "10/10 [==============================] - 7s 692ms/step - loss: 1.7429 - accuracy: 0.2576 - val_loss: 1.7221 - val_accuracy: 0.2500\n",
      "Epoch 12/100\n",
      "10/10 [==============================] - 7s 719ms/step - loss: 1.7571 - accuracy: 0.2441 - val_loss: 1.7381 - val_accuracy: 0.2500\n",
      "Epoch 13/100\n",
      "10/10 [==============================] - 7s 698ms/step - loss: 1.7506 - accuracy: 0.2508 - val_loss: 1.7223 - val_accuracy: 0.2500\n",
      "Epoch 14/100\n",
      "10/10 [==============================] - 7s 699ms/step - loss: 1.7553 - accuracy: 0.2508 - val_loss: 1.7285 - val_accuracy: 0.2500\n",
      "Epoch 15/100\n",
      "10/10 [==============================] - 7s 694ms/step - loss: 1.7450 - accuracy: 0.2407 - val_loss: 1.7344 - val_accuracy: 0.2500\n",
      "Epoch 16/100\n",
      "10/10 [==============================] - 7s 699ms/step - loss: 1.7519 - accuracy: 0.2508 - val_loss: 1.7198 - val_accuracy: 0.2500\n",
      "Epoch 17/100\n",
      "10/10 [==============================] - 7s 709ms/step - loss: 1.7315 - accuracy: 0.2610 - val_loss: 1.7185 - val_accuracy: 0.2500\n",
      "Epoch 18/100\n",
      "10/10 [==============================] - 7s 700ms/step - loss: 1.7451 - accuracy: 0.2712 - val_loss: 1.7178 - val_accuracy: 0.2500\n",
      "Epoch 19/100\n",
      "10/10 [==============================] - 7s 713ms/step - loss: 1.7357 - accuracy: 0.2508 - val_loss: 1.7117 - val_accuracy: 0.2500\n",
      "Epoch 20/100\n",
      "10/10 [==============================] - 7s 695ms/step - loss: 1.7417 - accuracy: 0.2407 - val_loss: 1.7133 - val_accuracy: 0.2500\n",
      "Epoch 21/100\n",
      "10/10 [==============================] - 7s 696ms/step - loss: 1.7342 - accuracy: 0.2644 - val_loss: 1.6960 - val_accuracy: 0.2500\n",
      "Epoch 22/100\n",
      "10/10 [==============================] - 7s 709ms/step - loss: 1.7228 - accuracy: 0.2712 - val_loss: 1.6800 - val_accuracy: 0.2500\n",
      "Epoch 23/100\n",
      "10/10 [==============================] - 8s 762ms/step - loss: 1.6960 - accuracy: 0.2983 - val_loss: 1.6286 - val_accuracy: 0.2500\n",
      "Epoch 24/100\n",
      "10/10 [==============================] - 8s 816ms/step - loss: 1.6742 - accuracy: 0.2881 - val_loss: 1.5613 - val_accuracy: 0.2500\n",
      "Epoch 25/100\n",
      "10/10 [==============================] - 8s 750ms/step - loss: 1.6324 - accuracy: 0.3458 - val_loss: 1.4854 - val_accuracy: 0.5000\n",
      "Epoch 26/100\n",
      "10/10 [==============================] - 7s 723ms/step - loss: 1.6152 - accuracy: 0.3051 - val_loss: 1.3862 - val_accuracy: 0.5000\n",
      "Epoch 27/100\n",
      "10/10 [==============================] - 7s 722ms/step - loss: 1.5170 - accuracy: 0.4068 - val_loss: 1.2673 - val_accuracy: 0.6000\n",
      "Epoch 28/100\n",
      "10/10 [==============================] - 7s 709ms/step - loss: 1.3989 - accuracy: 0.4508 - val_loss: 1.1398 - val_accuracy: 0.6000\n",
      "Epoch 29/100\n",
      "10/10 [==============================] - 7s 698ms/step - loss: 1.3401 - accuracy: 0.4780 - val_loss: 1.2359 - val_accuracy: 0.6000\n",
      "Epoch 30/100\n",
      "10/10 [==============================] - 7s 714ms/step - loss: 1.3137 - accuracy: 0.4881 - val_loss: 1.0867 - val_accuracy: 0.6500\n",
      "Epoch 31/100\n",
      "10/10 [==============================] - 7s 789ms/step - loss: 1.2183 - accuracy: 0.5186 - val_loss: 0.9393 - val_accuracy: 0.5500\n",
      "Epoch 32/100\n",
      "10/10 [==============================] - 7s 688ms/step - loss: 1.1961 - accuracy: 0.5017 - val_loss: 0.9150 - val_accuracy: 0.6500\n",
      "Epoch 33/100\n",
      "10/10 [==============================] - 9s 876ms/step - loss: 1.0938 - accuracy: 0.5898 - val_loss: 0.9731 - val_accuracy: 0.7000\n",
      "Epoch 34/100\n",
      "10/10 [==============================] - 8s 806ms/step - loss: 1.1040 - accuracy: 0.5695 - val_loss: 0.8926 - val_accuracy: 0.7000\n",
      "Epoch 35/100\n",
      "10/10 [==============================] - 8s 830ms/step - loss: 0.9769 - accuracy: 0.6169 - val_loss: 0.8562 - val_accuracy: 0.7500\n",
      "Epoch 36/100\n",
      "10/10 [==============================] - 9s 847ms/step - loss: 0.9996 - accuracy: 0.6068 - val_loss: 0.8569 - val_accuracy: 0.6000\n",
      "Epoch 37/100\n",
      "10/10 [==============================] - 8s 717ms/step - loss: 1.0250 - accuracy: 0.5898 - val_loss: 0.8266 - val_accuracy: 0.7000\n",
      "Epoch 38/100\n",
      "10/10 [==============================] - 7s 698ms/step - loss: 0.9092 - accuracy: 0.6576 - val_loss: 0.9776 - val_accuracy: 0.7000\n",
      "Epoch 39/100\n",
      "10/10 [==============================] - 8s 736ms/step - loss: 0.9163 - accuracy: 0.6542 - val_loss: 0.8398 - val_accuracy: 0.7000\n",
      "Epoch 40/100\n",
      "10/10 [==============================] - 8s 808ms/step - loss: 0.8761 - accuracy: 0.6644 - val_loss: 0.8062 - val_accuracy: 0.8000\n",
      "Epoch 41/100\n",
      "10/10 [==============================] - 8s 791ms/step - loss: 0.7940 - accuracy: 0.6814 - val_loss: 1.0334 - val_accuracy: 0.7000\n",
      "Epoch 42/100\n",
      "10/10 [==============================] - 8s 776ms/step - loss: 0.9211 - accuracy: 0.6746 - val_loss: 0.8899 - val_accuracy: 0.7500\n",
      "Epoch 43/100\n",
      "10/10 [==============================] - 8s 770ms/step - loss: 0.7828 - accuracy: 0.6983 - val_loss: 0.9175 - val_accuracy: 0.8000\n",
      "Epoch 44/100\n",
      "10/10 [==============================] - 8s 766ms/step - loss: 0.8212 - accuracy: 0.7051 - val_loss: 0.8982 - val_accuracy: 0.7000\n",
      "Epoch 45/100\n",
      "10/10 [==============================] - 8s 774ms/step - loss: 0.8523 - accuracy: 0.6983 - val_loss: 1.0729 - val_accuracy: 0.7500\n",
      "Epoch 46/100\n",
      "10/10 [==============================] - 8s 755ms/step - loss: 0.7989 - accuracy: 0.7017 - val_loss: 1.1115 - val_accuracy: 0.7500\n",
      "Epoch 47/100\n",
      "10/10 [==============================] - 8s 775ms/step - loss: 0.8229 - accuracy: 0.7051 - val_loss: 0.9197 - val_accuracy: 0.7500\n",
      "Epoch 48/100\n",
      "10/10 [==============================] - 9s 925ms/step - loss: 0.7650 - accuracy: 0.7085 - val_loss: 0.9755 - val_accuracy: 0.7500\n",
      "Epoch 49/100\n",
      "10/10 [==============================] - 9s 827ms/step - loss: 0.7284 - accuracy: 0.7322 - val_loss: 0.8653 - val_accuracy: 0.8000\n",
      "Epoch 50/100\n",
      "10/10 [==============================] - 8s 746ms/step - loss: 0.8009 - accuracy: 0.6983 - val_loss: 0.7992 - val_accuracy: 0.8500\n",
      "Epoch 51/100\n",
      "10/10 [==============================] - 8s 737ms/step - loss: 0.7449 - accuracy: 0.7119 - val_loss: 0.8683 - val_accuracy: 0.8000\n",
      "Epoch 52/100\n",
      "10/10 [==============================] - 8s 761ms/step - loss: 0.7229 - accuracy: 0.7593 - val_loss: 0.7878 - val_accuracy: 0.7500\n",
      "Epoch 53/100\n",
      "10/10 [==============================] - 8s 743ms/step - loss: 0.8115 - accuracy: 0.6949 - val_loss: 0.7846 - val_accuracy: 0.7500\n",
      "Epoch 54/100\n",
      "10/10 [==============================] - 8s 731ms/step - loss: 0.7102 - accuracy: 0.7593 - val_loss: 0.7870 - val_accuracy: 0.7500\n",
      "Epoch 55/100\n",
      "10/10 [==============================] - 8s 744ms/step - loss: 0.6994 - accuracy: 0.7458 - val_loss: 0.7174 - val_accuracy: 0.7500\n",
      "Epoch 56/100\n",
      "10/10 [==============================] - 9s 921ms/step - loss: 0.7396 - accuracy: 0.7220 - val_loss: 0.9251 - val_accuracy: 0.7000\n",
      "Epoch 57/100\n",
      "10/10 [==============================] - 9s 872ms/step - loss: 0.7170 - accuracy: 0.7254 - val_loss: 0.7515 - val_accuracy: 0.7500\n",
      "Epoch 58/100\n",
      "10/10 [==============================] - 8s 778ms/step - loss: 0.7283 - accuracy: 0.7254 - val_loss: 0.7258 - val_accuracy: 0.6500\n",
      "Epoch 59/100\n",
      "10/10 [==============================] - 8s 749ms/step - loss: 0.7219 - accuracy: 0.7186 - val_loss: 0.7145 - val_accuracy: 0.8000\n",
      "Epoch 60/100\n",
      "10/10 [==============================] - 8s 750ms/step - loss: 0.6401 - accuracy: 0.7322 - val_loss: 0.7352 - val_accuracy: 0.8000\n",
      "Epoch 61/100\n",
      "10/10 [==============================] - 8s 813ms/step - loss: 0.6234 - accuracy: 0.7763 - val_loss: 0.9821 - val_accuracy: 0.6000\n",
      "Epoch 62/100\n",
      "10/10 [==============================] - 8s 759ms/step - loss: 0.6369 - accuracy: 0.7797 - val_loss: 0.6411 - val_accuracy: 0.7500\n",
      "Epoch 63/100\n",
      "10/10 [==============================] - 8s 873ms/step - loss: 0.7135 - accuracy: 0.7898 - val_loss: 0.6508 - val_accuracy: 0.7500\n",
      "Epoch 64/100\n",
      "10/10 [==============================] - 8s 800ms/step - loss: 0.6293 - accuracy: 0.7661 - val_loss: 0.6876 - val_accuracy: 0.8000\n",
      "Epoch 65/100\n",
      "10/10 [==============================] - 9s 843ms/step - loss: 0.7076 - accuracy: 0.7525 - val_loss: 0.6681 - val_accuracy: 0.7500\n",
      "Epoch 66/100\n",
      "10/10 [==============================] - 9s 842ms/step - loss: 0.6875 - accuracy: 0.7424 - val_loss: 0.6780 - val_accuracy: 0.7000\n",
      "Epoch 67/100\n",
      "10/10 [==============================] - 9s 817ms/step - loss: 0.6116 - accuracy: 0.8034 - val_loss: 0.5554 - val_accuracy: 0.8000\n",
      "Epoch 68/100\n",
      "10/10 [==============================] - 8s 759ms/step - loss: 0.5378 - accuracy: 0.8102 - val_loss: 0.5803 - val_accuracy: 0.7000\n",
      "Epoch 69/100\n",
      "10/10 [==============================] - 8s 810ms/step - loss: 0.6710 - accuracy: 0.7525 - val_loss: 0.4371 - val_accuracy: 0.9000\n",
      "Epoch 70/100\n",
      "10/10 [==============================] - 8s 743ms/step - loss: 0.5947 - accuracy: 0.7864 - val_loss: 0.6851 - val_accuracy: 0.8000\n",
      "Epoch 71/100\n",
      "10/10 [==============================] - 8s 754ms/step - loss: 0.6122 - accuracy: 0.7864 - val_loss: 0.6705 - val_accuracy: 0.7500\n",
      "Epoch 72/100\n",
      "10/10 [==============================] - 8s 737ms/step - loss: 0.6145 - accuracy: 0.7593 - val_loss: 0.6350 - val_accuracy: 0.7500\n",
      "Epoch 73/100\n",
      "10/10 [==============================] - 8s 766ms/step - loss: 0.5972 - accuracy: 0.7525 - val_loss: 0.5707 - val_accuracy: 0.8000\n",
      "Epoch 74/100\n",
      "10/10 [==============================] - 8s 735ms/step - loss: 0.5407 - accuracy: 0.7932 - val_loss: 0.5868 - val_accuracy: 0.8000\n",
      "Epoch 75/100\n",
      "10/10 [==============================] - 8s 752ms/step - loss: 0.5270 - accuracy: 0.8305 - val_loss: 0.5636 - val_accuracy: 0.8500\n",
      "Epoch 76/100\n",
      "10/10 [==============================] - 8s 747ms/step - loss: 0.6193 - accuracy: 0.7695 - val_loss: 0.6366 - val_accuracy: 0.8000\n",
      "Epoch 77/100\n",
      "10/10 [==============================] - 8s 757ms/step - loss: 0.5847 - accuracy: 0.8000 - val_loss: 0.7374 - val_accuracy: 0.7500\n",
      "Epoch 78/100\n",
      "10/10 [==============================] - 8s 832ms/step - loss: 0.5915 - accuracy: 0.8000 - val_loss: 0.7083 - val_accuracy: 0.8000\n",
      "Epoch 79/100\n",
      "10/10 [==============================] - 8s 762ms/step - loss: 0.6025 - accuracy: 0.7797 - val_loss: 0.8745 - val_accuracy: 0.7500\n",
      "Epoch 80/100\n",
      "10/10 [==============================] - 8s 754ms/step - loss: 0.5833 - accuracy: 0.7627 - val_loss: 0.6278 - val_accuracy: 0.8000\n",
      "Epoch 81/100\n",
      "10/10 [==============================] - 8s 748ms/step - loss: 0.5967 - accuracy: 0.7627 - val_loss: 0.8866 - val_accuracy: 0.7000\n",
      "Epoch 82/100\n",
      "10/10 [==============================] - 8s 741ms/step - loss: 0.6176 - accuracy: 0.7729 - val_loss: 0.6387 - val_accuracy: 0.7500\n",
      "Epoch 83/100\n",
      "10/10 [==============================] - 8s 819ms/step - loss: 0.6088 - accuracy: 0.7695 - val_loss: 0.8345 - val_accuracy: 0.7500\n",
      "Epoch 84/100\n",
      "10/10 [==============================] - 8s 822ms/step - loss: 0.6752 - accuracy: 0.7695 - val_loss: 0.6506 - val_accuracy: 0.7500\n",
      "Epoch 85/100\n",
      "10/10 [==============================] - 8s 760ms/step - loss: 0.5732 - accuracy: 0.8068 - val_loss: 0.6906 - val_accuracy: 0.7500\n",
      "Epoch 86/100\n",
      "10/10 [==============================] - 8s 824ms/step - loss: 0.5879 - accuracy: 0.8000 - val_loss: 0.4751 - val_accuracy: 0.8500\n",
      "Epoch 87/100\n",
      "10/10 [==============================] - 8s 823ms/step - loss: 0.5663 - accuracy: 0.8136 - val_loss: 0.6555 - val_accuracy: 0.8000\n",
      "Epoch 88/100\n",
      "10/10 [==============================] - 8s 765ms/step - loss: 0.5663 - accuracy: 0.8000 - val_loss: 0.6807 - val_accuracy: 0.8000\n",
      "Epoch 89/100\n",
      "10/10 [==============================] - 8s 874ms/step - loss: 0.5495 - accuracy: 0.7932 - val_loss: 0.6831 - val_accuracy: 0.8000\n",
      "Epoch 90/100\n",
      "10/10 [==============================] - 8s 813ms/step - loss: 0.5527 - accuracy: 0.7966 - val_loss: 0.5773 - val_accuracy: 0.8500\n",
      "Epoch 91/100\n",
      "10/10 [==============================] - 9s 840ms/step - loss: 0.5255 - accuracy: 0.7932 - val_loss: 0.6063 - val_accuracy: 0.8500\n",
      "Epoch 92/100\n",
      "10/10 [==============================] - 8s 805ms/step - loss: 0.5527 - accuracy: 0.7763 - val_loss: 0.5359 - val_accuracy: 0.8000\n",
      "Epoch 93/100\n",
      "10/10 [==============================] - 8s 785ms/step - loss: 0.4885 - accuracy: 0.8271 - val_loss: 0.5231 - val_accuracy: 0.9000\n",
      "Epoch 94/100\n",
      "10/10 [==============================] - 8s 799ms/step - loss: 0.4901 - accuracy: 0.8068 - val_loss: 0.6605 - val_accuracy: 0.8000\n",
      "Epoch 95/100\n",
      "10/10 [==============================] - 8s 768ms/step - loss: 0.4885 - accuracy: 0.8441 - val_loss: 0.5988 - val_accuracy: 0.8000\n",
      "Epoch 96/100\n",
      "10/10 [==============================] - 8s 821ms/step - loss: 0.5388 - accuracy: 0.8169 - val_loss: 0.8634 - val_accuracy: 0.7500\n",
      "Epoch 97/100\n",
      "10/10 [==============================] - 9s 853ms/step - loss: 0.5173 - accuracy: 0.8169 - val_loss: 0.7308 - val_accuracy: 0.7500\n",
      "Epoch 98/100\n",
      "10/10 [==============================] - 8s 818ms/step - loss: 0.5584 - accuracy: 0.7898 - val_loss: 0.6710 - val_accuracy: 0.7500\n",
      "Epoch 99/100\n",
      "10/10 [==============================] - 8s 816ms/step - loss: 0.4901 - accuracy: 0.8441 - val_loss: 0.7665 - val_accuracy: 0.8000\n",
      "Epoch 100/100\n",
      "10/10 [==============================] - 8s 792ms/step - loss: 0.5047 - accuracy: 0.8441 - val_loss: 0.6532 - val_accuracy: 0.7500\n"
     ]
    }
   ],
   "source": [
    "history = model2.fit(train_generator_augmented, epochs=100, validation_data=validation_generator) "
   ]
  },
  {
   "cell_type": "code",
   "execution_count": 15,
   "metadata": {},
   "outputs": [
    {
     "data": {
      "image/png": "[encoded data removed]",
      "text/plain": [
       "<Figure size 640x480 with 2 Axes>"
      ]
     },
     "metadata": {},
     "output_type": "display_data"
    }
   ],
   "source": [
    "import matplotlib.pyplot as plt\n",
    "\n",
    "plt.subplot(1, 2, 1)\n",
    "plt.plot(history.history['accuracy'], label='accuracy')\n",
    "plt.xlabel('epochs')\n",
    "plt.ylabel('unit')\n",
    "plt.legend()\n",
    "plt.plot(history.history['loss'], label='loss')\n",
    "plt.legend()\n",
    "\n",
    "\n",
    "plt.subplot(1, 2, 2)\n",
    "plt.plot(history.history['val_accuracy'], label='val_accuracy')\n",
    "plt.xlabel('epochs')\n",
    "plt.ylabel('unit')\n",
    "plt.legend()\n",
    "plt.plot(history.history['val_loss'], label='val_loss')\n",
    "plt.legend()\n",
    "plt.tight_layout()\n",
    "\n"
   ]
  },
  {
   "cell_type": "code",
   "execution_count": 16,
   "metadata": {},
   "outputs": [
    {
     "name": "stdout",
     "output_type": "stream",
     "text": [
      "Found 10 images belonging to 6 classes.\n",
      "10/10 [==============================] - 0s 16ms/step - loss: 0.2725 - accuracy: 0.9000\n",
      "Test Loss: 0.2724902927875519\n",
      "Test Accuracy: 0.8999999761581421\n"
     ]
    }
   ],
   "source": [
    "test_datagen =          ImageDataGenerator(rescale=1./255)\n",
    "\n",
    "test_generator =        test_datagen.flow_from_directory(\n",
    "                        r'../CK+_lands/images/test/',\n",
    "                        target_size=(150, 150),\n",
    "                        batch_size=1,\n",
    "                        class_mode='categorical')\n",
    "\n",
    "evaluation =            model2.evaluate(test_generator)\n",
    "\n",
    "print(\"Test Loss:\", evaluation[0])\n",
    "print(\"Test Accuracy:\", evaluation[1])"
   ]
  },
  {
   "cell_type": "markdown",
   "metadata": {},
   "source": [
    "# DATA HAS COLORED ZONES (cf report figs)"
   ]
  },
  {
   "cell_type": "code",
   "execution_count": 17,
   "metadata": {},
   "outputs": [
    {
     "name": "stderr",
     "output_type": "stream",
     "text": [
      "100%|██████████| 353/353 [02:08<00:00,  2.74it/s]\n"
     ]
    },
    {
     "data": {
      "text/plain": [
       "<Figure size 640x480 with 0 Axes>"
      ]
     },
     "metadata": {},
     "output_type": "display_data"
    }
   ],
   "source": [
    "#### SUPER IMPORTANT TO EXECUTE OTHERWISE FACES MIGHT BE B&W\n",
    "import save_face_img\n",
    "\n",
    "save_face_img.create_faces(color_mode=\"rgb\")"
   ]
  },
  {
   "cell_type": "code",
   "execution_count": 18,
   "metadata": {},
   "outputs": [
    {
     "name": "stdout",
     "output_type": "stream",
     "text": [
      "Found 295 images belonging to 6 classes.\n",
      "Found 20 images belonging to 6 classes.\n"
     ]
    }
   ],
   "source": [
    "# Data Preparation NO AUGMENTATION\n",
    "train_datagen =         ImageDataGenerator(rescale=1./255)\n",
    "test_datagen =          ImageDataGenerator(rescale=1./255)\n",
    "\n",
    "train_generator =       train_datagen.flow_from_directory(\n",
    "                        r'../CK+_lands/images/train/',\n",
    "                        target_size=(150, 150),\n",
    "                        batch_size=32,\n",
    "                        class_mode='categorical')\n",
    "\n",
    "validation_generator =  test_datagen.flow_from_directory(\n",
    "                        r'../CK+_lands/images/val/',\n",
    "                        target_size=(150, 150),\n",
    "                        batch_size=32,\n",
    "                        class_mode='categorical')"
   ]
  },
  {
   "cell_type": "code",
   "execution_count": 29,
   "metadata": {},
   "outputs": [
    {
     "name": "stdout",
     "output_type": "stream",
     "text": [
      "Model: \"sequential_3\"\n",
      "_________________________________________________________________\n",
      " Layer (type)                Output Shape              Param #   \n",
      "=================================================================\n",
      " conv2d_12 (Conv2D)          (None, 148, 148, 32)      896       \n",
      "                                                                 \n",
      " max_pooling2d_12 (MaxPooli  (None, 74, 74, 32)        0         \n",
      " ng2D)                                                           \n",
      "                                                                 \n",
      " conv2d_13 (Conv2D)          (None, 72, 72, 64)        18496     \n",
      "                                                                 \n",
      " max_pooling2d_13 (MaxPooli  (None, 36, 36, 64)        0         \n",
      " ng2D)                                                           \n",
      "                                                                 \n",
      " conv2d_14 (Conv2D)          (None, 34, 34, 128)       73856     \n",
      "                                                                 \n",
      " max_pooling2d_14 (MaxPooli  (None, 17, 17, 128)       0         \n",
      " ng2D)                                                           \n",
      "                                                                 \n",
      " conv2d_15 (Conv2D)          (None, 15, 15, 256)       295168    \n",
      "                                                                 \n",
      " max_pooling2d_15 (MaxPooli  (None, 7, 7, 256)         0         \n",
      " ng2D)                                                           \n",
      "                                                                 \n",
      " flatten_3 (Flatten)         (None, 12544)             0         \n",
      "                                                                 \n",
      " dense_6 (Dense)             (None, 256)               3211520   \n",
      "                                                                 \n",
      " dropout_3 (Dropout)         (None, 256)               0         \n",
      "                                                                 \n",
      " dense_7 (Dense)             (None, 6)                 1542      \n",
      "                                                                 \n",
      "=================================================================\n",
      "Total params: 3601478 (13.74 MB)\n",
      "Trainable params: 3601478 (13.74 MB)\n",
      "Non-trainable params: 0 (0.00 Byte)\n",
      "_________________________________________________________________\n"
     ]
    }
   ],
   "source": [
    "# Model Building\n",
    "model3 =     Sequential()\n",
    "model3.add(Conv2D(32, kernel_size=(3, 3), activation='relu', input_shape=(150, 150, 3)))\n",
    "model3.add(MaxPool2D(pool_size=2, strides=2, padding=\"valid\"))\n",
    "model3.add(Conv2D(64, kernel_size=(3, 3), activation='relu'))\n",
    "model3.add(MaxPool2D(pool_size=2, strides=2, padding=\"valid\"))\n",
    "model3.add(Conv2D(128, kernel_size=(3, 3), activation='relu'))\n",
    "model3.add(MaxPool2D(pool_size=2, strides=2, padding=\"valid\"))\n",
    "model3.add(Conv2D(256, kernel_size=(3, 3), activation='relu'))\n",
    "model3.add(MaxPool2D(pool_size=2, strides=2, padding=\"valid\"))\n",
    "model3.add(Flatten())\n",
    "model3.add(Dense(256, activation='relu'))\n",
    "model3.add(Dropout(0.5))\n",
    "model3.add(Dense(6, activation='softmax'))\n",
    "\n",
    "# Compilation\n",
    "model3.compile(optimizer='adam', loss='categorical_crossentropy', metrics=['accuracy'])\n",
    "\n",
    "model3.summary()"
   ]
  },
  {
   "cell_type": "code",
   "execution_count": 31,
   "metadata": {},
   "outputs": [],
   "source": [
    "from keras.callbacks import EarlyStopping\n",
    "\n",
    "pat = 10 #this is the number of epochs with no improvment after which the training will stop\n",
    "early_stopping = EarlyStopping(monitor='val_loss', patience=pat, verbose=1)"
   ]
  },
  {
   "cell_type": "code",
   "execution_count": 32,
   "metadata": {},
   "outputs": [
    {
     "name": "stdout",
     "output_type": "stream",
     "text": [
      "Epoch 1/100\n",
      "10/10 [==============================] - 6s 685ms/step - loss: 1.7610 - accuracy: 0.2678 - val_loss: 1.7396 - val_accuracy: 0.2500\n",
      "Epoch 2/100\n",
      "10/10 [==============================] - 7s 655ms/step - loss: 1.7518 - accuracy: 0.2508 - val_loss: 1.7467 - val_accuracy: 0.2500\n",
      "Epoch 3/100\n",
      "10/10 [==============================] - 6s 630ms/step - loss: 1.7600 - accuracy: 0.2542 - val_loss: 1.7270 - val_accuracy: 0.2500\n",
      "Epoch 4/100\n",
      "10/10 [==============================] - 6s 630ms/step - loss: 1.7477 - accuracy: 0.2678 - val_loss: 1.7297 - val_accuracy: 0.2500\n",
      "Epoch 5/100\n",
      "10/10 [==============================] - 7s 695ms/step - loss: 1.7256 - accuracy: 0.2644 - val_loss: 1.7036 - val_accuracy: 0.2500\n",
      "Epoch 6/100\n",
      "10/10 [==============================] - 6s 609ms/step - loss: 1.6989 - accuracy: 0.3186 - val_loss: 1.6171 - val_accuracy: 0.2500\n",
      "Epoch 7/100\n",
      "10/10 [==============================] - 6s 597ms/step - loss: 1.5465 - accuracy: 0.3559 - val_loss: 1.2975 - val_accuracy: 0.4500\n",
      "Epoch 8/100\n",
      "10/10 [==============================] - 6s 589ms/step - loss: 1.2967 - accuracy: 0.5458 - val_loss: 1.0342 - val_accuracy: 0.6500\n",
      "Epoch 9/100\n",
      "10/10 [==============================] - 6s 616ms/step - loss: 1.0164 - accuracy: 0.6271 - val_loss: 0.9091 - val_accuracy: 0.6500\n",
      "Epoch 10/100\n",
      "10/10 [==============================] - 6s 599ms/step - loss: 0.8208 - accuracy: 0.6949 - val_loss: 0.6635 - val_accuracy: 0.8000\n",
      "Epoch 11/100\n",
      "10/10 [==============================] - 6s 597ms/step - loss: 0.7649 - accuracy: 0.7051 - val_loss: 0.8448 - val_accuracy: 0.6000\n",
      "Epoch 12/100\n",
      "10/10 [==============================] - 6s 599ms/step - loss: 0.6948 - accuracy: 0.7220 - val_loss: 0.6650 - val_accuracy: 0.7000\n",
      "Epoch 13/100\n",
      "10/10 [==============================] - 6s 621ms/step - loss: 0.6192 - accuracy: 0.7559 - val_loss: 0.8513 - val_accuracy: 0.7500\n",
      "Epoch 14/100\n",
      "10/10 [==============================] - 6s 609ms/step - loss: 0.6508 - accuracy: 0.7627 - val_loss: 0.7746 - val_accuracy: 0.8500\n",
      "Epoch 15/100\n",
      "10/10 [==============================] - 6s 672ms/step - loss: 0.5762 - accuracy: 0.7864 - val_loss: 0.7091 - val_accuracy: 0.8000\n",
      "Epoch 16/100\n",
      "10/10 [==============================] - 7s 638ms/step - loss: 0.5216 - accuracy: 0.7831 - val_loss: 0.6941 - val_accuracy: 0.7500\n",
      "Epoch 17/100\n",
      "10/10 [==============================] - 7s 630ms/step - loss: 0.4113 - accuracy: 0.8542 - val_loss: 0.7333 - val_accuracy: 0.8000\n",
      "Epoch 18/100\n",
      "10/10 [==============================] - 6s 607ms/step - loss: 0.5101 - accuracy: 0.7593 - val_loss: 0.8135 - val_accuracy: 0.8000\n",
      "Epoch 19/100\n",
      "10/10 [==============================] - 6s 604ms/step - loss: 0.4960 - accuracy: 0.7831 - val_loss: 0.9008 - val_accuracy: 0.7500\n",
      "Epoch 20/100\n",
      "10/10 [==============================] - 6s 596ms/step - loss: 0.4842 - accuracy: 0.8034 - val_loss: 0.5110 - val_accuracy: 0.8500\n",
      "Epoch 21/100\n",
      "10/10 [==============================] - 6s 602ms/step - loss: 0.3323 - accuracy: 0.8678 - val_loss: 0.6541 - val_accuracy: 0.8000\n",
      "Epoch 22/100\n",
      "10/10 [==============================] - 6s 603ms/step - loss: 0.3614 - accuracy: 0.8780 - val_loss: 0.6306 - val_accuracy: 0.7500\n",
      "Epoch 23/100\n",
      "10/10 [==============================] - 6s 595ms/step - loss: 0.3381 - accuracy: 0.8712 - val_loss: 0.5901 - val_accuracy: 0.8000\n",
      "Epoch 24/100\n",
      "10/10 [==============================] - 6s 599ms/step - loss: 0.2751 - accuracy: 0.8847 - val_loss: 0.5957 - val_accuracy: 0.8000\n",
      "Epoch 25/100\n",
      "10/10 [==============================] - 6s 661ms/step - loss: 0.2921 - accuracy: 0.9051 - val_loss: 0.6484 - val_accuracy: 0.8000\n",
      "Epoch 26/100\n",
      "10/10 [==============================] - 6s 595ms/step - loss: 0.2653 - accuracy: 0.9153 - val_loss: 0.8554 - val_accuracy: 0.8000\n",
      "Epoch 27/100\n",
      "10/10 [==============================] - 6s 603ms/step - loss: 0.2123 - accuracy: 0.9220 - val_loss: 0.4464 - val_accuracy: 0.8500\n",
      "Epoch 28/100\n",
      "10/10 [==============================] - 6s 613ms/step - loss: 0.2127 - accuracy: 0.9356 - val_loss: 0.6417 - val_accuracy: 0.8500\n",
      "Epoch 29/100\n",
      "10/10 [==============================] - 6s 608ms/step - loss: 0.1533 - accuracy: 0.9424 - val_loss: 0.7884 - val_accuracy: 0.8000\n",
      "Epoch 30/100\n",
      "10/10 [==============================] - 6s 603ms/step - loss: 0.1813 - accuracy: 0.9322 - val_loss: 0.6326 - val_accuracy: 0.8500\n",
      "Epoch 31/100\n",
      "10/10 [==============================] - 6s 597ms/step - loss: 0.1628 - accuracy: 0.9390 - val_loss: 0.6671 - val_accuracy: 0.9000\n",
      "Epoch 32/100\n",
      "10/10 [==============================] - 6s 601ms/step - loss: 0.1557 - accuracy: 0.9492 - val_loss: 0.4850 - val_accuracy: 0.8500\n",
      "Epoch 33/100\n",
      "10/10 [==============================] - 6s 602ms/step - loss: 0.1620 - accuracy: 0.9458 - val_loss: 0.3177 - val_accuracy: 0.9500\n",
      "Epoch 34/100\n",
      "10/10 [==============================] - 6s 599ms/step - loss: 0.0950 - accuracy: 0.9627 - val_loss: 0.4784 - val_accuracy: 0.9000\n",
      "Epoch 35/100\n",
      "10/10 [==============================] - 6s 661ms/step - loss: 0.1257 - accuracy: 0.9492 - val_loss: 0.4484 - val_accuracy: 0.9000\n",
      "Epoch 36/100\n",
      "10/10 [==============================] - 6s 658ms/step - loss: 0.1244 - accuracy: 0.9525 - val_loss: 1.1845 - val_accuracy: 0.8500\n",
      "Epoch 37/100\n",
      "10/10 [==============================] - 6s 597ms/step - loss: 0.1102 - accuracy: 0.9424 - val_loss: 0.8500 - val_accuracy: 0.8500\n",
      "Epoch 38/100\n",
      "10/10 [==============================] - 6s 600ms/step - loss: 0.0892 - accuracy: 0.9695 - val_loss: 0.8002 - val_accuracy: 0.8000\n",
      "Epoch 39/100\n",
      "10/10 [==============================] - 6s 601ms/step - loss: 0.0876 - accuracy: 0.9661 - val_loss: 0.8343 - val_accuracy: 0.8500\n",
      "Epoch 40/100\n",
      "10/10 [==============================] - 6s 597ms/step - loss: 0.0719 - accuracy: 0.9763 - val_loss: 0.6534 - val_accuracy: 0.9000\n",
      "Epoch 41/100\n",
      "10/10 [==============================] - 6s 611ms/step - loss: 0.0784 - accuracy: 0.9661 - val_loss: 0.6536 - val_accuracy: 0.9000\n",
      "Epoch 42/100\n",
      "10/10 [==============================] - 6s 603ms/step - loss: 0.0509 - accuracy: 0.9763 - val_loss: 0.7684 - val_accuracy: 0.8500\n",
      "Epoch 43/100\n",
      "10/10 [==============================] - 6s 594ms/step - loss: 0.0442 - accuracy: 0.9898 - val_loss: 1.0475 - val_accuracy: 0.8000\n",
      "Epoch 43: early stopping\n"
     ]
    }
   ],
   "source": [
    "history = model3.fit(train_generator, epochs=100, validation_data=validation_generator, callbacks=early_stopping) "
   ]
  },
  {
   "cell_type": "code",
   "execution_count": null,
   "metadata": {},
   "outputs": [],
   "source": [
    "import matplotlib.pyplot as plt\n",
    "\n",
    "plt.subplot(1, 2, 1)\n",
    "plt.plot(history.history['accuracy'], label='accuracy')\n",
    "plt.xlabel('epochs')\n",
    "plt.ylabel('unit')\n",
    "plt.legend()\n",
    "plt.plot(history.history['loss'], label='loss')\n",
    "plt.legend()\n",
    "\n",
    "\n",
    "plt.subplot(1, 2, 2)\n",
    "plt.plot(history.history['val_accuracy'], label='val_accuracy')\n",
    "plt.xlabel('epochs')\n",
    "plt.ylabel('unit')\n",
    "plt.legend()\n",
    "plt.plot(history.history['val_loss'], label='val_loss')\n",
    "plt.legend()\n",
    "plt.tight_layout()\n",
    "\n"
   ]
  },
  {
   "cell_type": "code",
   "execution_count": 23,
   "metadata": {},
   "outputs": [
    {
     "name": "stdout",
     "output_type": "stream",
     "text": [
      "Found 10 images belonging to 6 classes.\n",
      "10/10 [==============================] - 0s 17ms/step - loss: 1.7381 - accuracy: 0.3000\n",
      "Test Loss: 1.7380740642547607\n",
      "Test Accuracy: 0.30000001192092896\n"
     ]
    }
   ],
   "source": [
    "test_datagen =          ImageDataGenerator(rescale=1./255)\n",
    "\n",
    "test_generator =        test_datagen.flow_from_directory(\n",
    "                        r'../CK+_lands/images/test/',\n",
    "                        target_size=(150, 150),\n",
    "                        batch_size=1,\n",
    "                        class_mode='categorical')\n",
    "\n",
    "evaluation =            model3.evaluate(test_generator)\n",
    "\n",
    "print(\"Test Loss:\", evaluation[0])\n",
    "print(\"Test Accuracy:\", evaluation[1])"
   ]
  },
  {
   "cell_type": "markdown",
   "metadata": {},
   "source": [
    "## Model tuning via GridSearch"
   ]
  },
  {
   "cell_type": "code",
   "execution_count": 24,
   "metadata": {},
   "outputs": [],
   "source": [
    "#libs\n",
    "import numpy as np\n",
    "import tensorflow as tf\n",
    "from sklearn.model_selection import GridSearchCV\n",
    "from scikeras.wrappers import KerasClassifier"
   ]
  },
  {
   "cell_type": "code",
   "execution_count": 25,
   "metadata": {},
   "outputs": [],
   "source": [
    "#create model\n",
    "def create_model(activation='relu'):\n",
    "    # for computational purposes we will use a very simple model\n",
    "    model3 =     Sequential()\n",
    "    model3.add(Conv2D(32, kernel_size=(3, 3), activation=activation,vinput_shape=(150, 150, 3)))\n",
    "    model3.add(MaxPool2D(pool_size=2, strides=2, padding=\"valid\"))\n",
    "    model3.add(Flatten())\n",
    "    model3.add(Dense(256, activation=activation))\n",
    "    model3.add(Dropout(0.5))\n",
    "    model3.add(Dense(6, activation='softmax'))\n",
    "\n",
    "    # Compilation\n",
    "    model3.compile(optimizer='adam', loss='categorical_crossentropy', metrics=['accuracy'])\n",
    "    return model3"
   ]
  },
  {
   "cell_type": "code",
   "execution_count": 26,
   "metadata": {},
   "outputs": [
    {
     "name": "stderr",
     "output_type": "stream",
     "text": [
      "100%|██████████| 294/294 [02:52<00:00,  1.70it/s]\n",
      "100%|██████████| 19/19 [00:02<00:00,  7.13it/s]\n"
     ]
    }
   ],
   "source": [
    "import tqdm\n",
    "batch_size = 1\n",
    "X_train, y_train = next(train_generator)\n",
    "X_val, y_val = next(validation_generator)\n",
    "for i in tqdm.tqdm(range(int(train_generator.n/batch_size)-1)): \n",
    "  img, label = next(train_generator)\n",
    "  X_train = np.append(X_train, img, axis=0 )\n",
    "  y_train = np.append(y_train, label, axis=0)\n",
    "for i in tqdm.tqdm(range(int(validation_generator.n/1)-1)): \n",
    "  img, label = next(validation_generator)\n",
    "  X_val = np.append(X_val, img, axis=0 )\n",
    "  y_val = np.append(y_val, label, axis=0)\n"
   ]
  },
  {
   "cell_type": "code",
   "execution_count": 27,
   "metadata": {},
   "outputs": [],
   "source": [
    "## TOO LONG AND VERSION ISSUES WITH SCIKERAS AND PYTHON 8.\n",
    "# model = KerasClassifier(model=create_model, epochs=100, batch_size=10, verbose=0, callbacks=early_stopping)\n",
    "# # define the grid search parameters\n",
    "# activation = ['softmax', 'softplus', 'softsign', 'relu', 'tanh', 'sigmoid', 'hard_sigmoid', 'linear']\n",
    "# param_grid = dict(model__activation=activation)\n",
    "# grid = GridSearchCV(estimator=model, param_grid=param_grid, n_jobs=-1, cv=3)\n",
    "# grid_result = grid.fit(X_train, y_train)\n",
    "# # summarize results\n",
    "# print(\"Best: %f using %s\" % (grid_result.best_score_, grid_result.best_params_))\n",
    "# means = grid_result.cv_results_['mean_test_score']\n",
    "# stds = grid_result.cv_results_['std_test_score']\n",
    "# params = grid_result.cv_results_['params']\n",
    "# for mean, stdev, param in zip(means, stds, params):\n",
    "#     print(\"%f (%f) with: %r\" % (mean, stdev, param))"
   ]
  }
 ],
 "metadata": {
  "kernelspec": {
   "display_name": "Python 3",
   "language": "python",
   "name": "python3"
  },
  "language_info": {
   "codemirror_mode": {
    "name": "ipython",
    "version": 3
   },
   "file_extension": ".py",
   "mimetype": "text/x-python",
   "name": "python",
   "nbconvert_exporter": "python",
   "pygments_lexer": "ipython3",
   "version": "3.8.18"
  }
 },
 "nbformat": 4,
 "nbformat_minor": 2
}
